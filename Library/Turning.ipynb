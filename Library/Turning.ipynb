{
 "cells": [
  {
   "cell_type": "code",
   "execution_count": 26,
   "metadata": {},
   "outputs": [],
   "source": [
    "def rotate(start: float, end: float):\n",
    "    '''\n",
    "    Turn the robot from a given angle to a desired one.\n",
    "\n",
    "    Args:\n",
    "      start: Starting angle (-180<=start<=180)\n",
    "    \n",
    "    Examples:\n",
    "\n",
    "    >>> round(rotate(12.2, 372.3), 1)\n",
    "    0.1\n",
    "\n",
    "    >>> rotate(10, 20)\n",
    "    10\n",
    "\n",
    "    >>> rotate(20, 10)\n",
    "    -10\n",
    "\n",
    "    >>> rotate(-10, -20)\n",
    "    -10\n",
    "\n",
    "    >>> rotate(-170, 170)\n",
    "    -20\n",
    "\n",
    "    >>> rotate(0, 180)\n",
    "    180\n",
    "\n",
    "    >>> rotate(42, 42)\n",
    "    0\n",
    "    '''\n",
    "    return ((end - start + 179) % 360 + 360) % 360 - 179\n"
   ]
  },
  {
   "cell_type": "markdown",
   "metadata": {},
   "source": [
    "6%1.2"
   ]
  },
  {
   "cell_type": "code",
   "execution_count": 19,
   "metadata": {},
   "outputs": [
    {
     "data": {
      "text/plain": [
       "0.10000000000002274"
      ]
     },
     "execution_count": 19,
     "metadata": {},
     "output_type": "execute_result"
    }
   ],
   "source": [
    "rotate(12.2, 372.3)"
   ]
  },
  {
   "cell_type": "markdown",
   "metadata": {},
   "source": [
    "## DocTests"
   ]
  },
  {
   "cell_type": "code",
   "execution_count": 27,
   "metadata": {},
   "outputs": [
    {
     "name": "stdout",
     "output_type": "stream",
     "text": [
      "Trying:\n",
      "    round(rotate(12.2, 372.3), 1)\n",
      "Expecting:\n",
      "    0.1\n",
      "ok\n",
      "Trying:\n",
      "    rotate(10, 20)\n",
      "Expecting:\n",
      "    10\n",
      "ok\n",
      "Trying:\n",
      "    rotate(20, 10)\n",
      "Expecting:\n",
      "    -10\n",
      "ok\n",
      "Trying:\n",
      "    rotate(-10, -20)\n",
      "Expecting:\n",
      "    -10\n",
      "ok\n",
      "Trying:\n",
      "    rotate(-170, 170)\n",
      "Expecting:\n",
      "    -20\n",
      "ok\n",
      "Trying:\n",
      "    rotate(0, 180)\n",
      "Expecting:\n",
      "    180\n",
      "ok\n",
      "Trying:\n",
      "    rotate(42, 42)\n",
      "Expecting:\n",
      "    0\n",
      "ok\n",
      "1 items had no tests:\n",
      "    __main__\n",
      "1 items passed all tests:\n",
      "   7 tests in __main__.rotate\n",
      "7 tests in 2 items.\n",
      "7 passed and 0 failed.\n",
      "Test passed.\n"
     ]
    },
    {
     "data": {
      "text/plain": [
       "TestResults(failed=0, attempted=7)"
      ]
     },
     "execution_count": 27,
     "metadata": {},
     "output_type": "execute_result"
    }
   ],
   "source": [
    "import doctest\n",
    "doctest.testmod(verbose=True)"
   ]
  }
 ],
 "metadata": {
  "kernelspec": {
   "display_name": "Python 3.9.12 ('py39')",
   "language": "python",
   "name": "python3"
  },
  "language_info": {
   "codemirror_mode": {
    "name": "ipython",
    "version": 3
   },
   "file_extension": ".py",
   "mimetype": "text/x-python",
   "name": "python",
   "nbconvert_exporter": "python",
   "pygments_lexer": "ipython3",
   "version": "3.9.12"
  },
  "orig_nbformat": 4,
  "vscode": {
   "interpreter": {
    "hash": "e23ef0a8a780611513a1d854b7ed1ea19c1dd26b8e9dc011e2d9fea948ae5243"
   }
  }
 },
 "nbformat": 4,
 "nbformat_minor": 2
}
